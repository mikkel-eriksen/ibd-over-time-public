{
 "cells": [
  {
   "cell_type": "code",
   "execution_count": null,
   "metadata": {},
   "outputs": [],
   "source": [
    "prim_col = ['#66c2a5','#fc8d62','#8da0cb','#e78ac3','#a6d854','#ffd92f','#e5c494','#b3b3b3']\n",
    "\n",
    "import matplotlib.pyplot as plt\n",
    "import random\n",
    "\n",
    "# Define the dimensions of the grid\n",
    "rows = 6\n",
    "cols = 5\n",
    "\n",
    "# Create an empty grid graph\n",
    "grid_graph = {}\n",
    "\n",
    "# Create nodes and add them to the grid\n",
    "for row in range(rows):\n",
    "    for col in range(cols):\n",
    "        node = (row, col)\n",
    "        neighbors = []\n",
    "\n",
    "        # Add \"parents\" from the row above (except for the top row)\n",
    "        if row > 0:\n",
    "            parents = random.sample(range(cols), 2)  # Choose 2 random parents from the row above\n",
    "            for parent_col in parents:\n",
    "                neighbors.append((row - 1, parent_col))\n",
    "\n",
    "        grid_graph[node] = neighbors\n",
    "\n",
    "# Draw the grid graph\n",
    "plt.figure(figsize=(10, 8))\n",
    "for node, neighbors in grid_graph.items():\n",
    "    x, y = node\n",
    "    plt.scatter(x, y, s=200, color=prim_col[0], edgecolor='black', zorder=2)  # Draw nodes\n",
    "\n",
    "    # Draw edges to neighbors\n",
    "    for neighbor in neighbors:\n",
    "        nx, ny = neighbor\n",
    "        plt.plot([x, nx], [y, ny], color='black', linewidth=2, zorder=1)  # Draw edges\n",
    "\n",
    "plt.gca().invert_yaxis()  # Invert y-axis to match grid orientation\n",
    "plt.title('8x6 Grid Graph with Random Parents')\n",
    "plt.grid(visible=False)\n",
    "plt.axis('equal')\n",
    "plt.axis('off')\n",
    "plt.show()"
   ]
  }
 ],
 "metadata": {
  "kernelspec": {
   "display_name": "Python 3",
   "language": "python",
   "name": "python3"
  },
  "language_info": {
   "codemirror_mode": {
    "name": "ipython",
    "version": 3
   },
   "file_extension": ".py",
   "mimetype": "text/x-python",
   "name": "python",
   "nbconvert_exporter": "python",
   "pygments_lexer": "ipython3",
   "version": "3.8.10"
  },
  "orig_nbformat": 4
 },
 "nbformat": 4,
 "nbformat_minor": 2
}
