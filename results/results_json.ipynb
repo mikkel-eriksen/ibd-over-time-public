{
 "cells": [
  {
   "cell_type": "code",
   "execution_count": null,
   "metadata": {},
   "outputs": [],
   "source": [
    "import json\n",
    "import math\n",
    "import matplotlib.pyplot as plt\n",
    "import matplotlib\n",
    "\n",
    "matplotlib.rcParams['figure.dpi'] = 300\n",
    "\n",
    "prim_col = ['#66c2a5','#fc8d62','#8da0cb','#e78ac3','#a6d854','#ffd92f','#e5c494','#b3b3b3']\n",
    "sec_col =  ['#b3e2cd','#fdcdac','#cbd5e8','#f4cae4','#e6f5c9','#fff2ae','#f1e2cc','#cccccc']\n",
    "dark_col = ['#1b9e77','#d95f02','#7570b3','#e7298a','#66a61e','#e6ab02','#a6761d','#666666']"
   ]
  },
  {
   "cell_type": "markdown",
   "metadata": {},
   "source": [
    "Import data"
   ]
  },
  {
   "cell_type": "code",
   "execution_count": null,
   "metadata": {},
   "outputs": [],
   "source": [
    "pop_sizes = [50, 100, 250, 500, 1000]\n",
    "samples = len(pop_sizes)\n",
    "\n",
    "data = []\n",
    "for pop_size in pop_sizes:\n",
    "    with open('pop' + str(pop_size) + '.json') as fp:\n",
    "        data.append(json.load(fp))\n",
    "\n",
    "generations = range(data[0]['num_gen'])"
   ]
  },
  {
   "cell_type": "markdown",
   "metadata": {},
   "source": [
    "Number of ancestors"
   ]
  },
  {
   "cell_type": "code",
   "execution_count": null,
   "metadata": {},
   "outputs": [],
   "source": [
    "unlimited = []\n",
    "for i in range(100):\n",
    "    unlimited.append(2**i)\n",
    "\n",
    "for i in range(2):\n",
    "    plt.plot(generations, data[i]['genealogical_ancestors'], label=f'{pop_sizes[i]} (Genealogical)', marker='.', linestyle='-', color=prim_col[i])\n",
    "    plt.plot(generations, data[i]['genetic_ancestors'], label=f'{pop_sizes[i]} (Genetic)', marker='+', linestyle='--', color=sec_col[i])\n",
    "\n",
    "    TMRCA = data[i]['TMRCA']\n",
    "    anc_at_TMRCA = data[i]['genealogical_ancestors'][TMRCA]\n",
    "    IAP = data[i]['IAP']\n",
    "    anc_at_IAP = data[i]['genealogical_ancestors'][IAP]\n",
    "\n",
    "    plt.scatter([TMRCA], [anc_at_TMRCA], marker='1', color=dark_col[i], zorder=10)\n",
    "    plt.scatter([IAP], [anc_at_IAP], marker='2', color=dark_col[i], zorder=10)\n",
    "    plt.text(TMRCA, anc_at_TMRCA, 'TMRCA', zorder=20)\n",
    "    plt.text(IAP, anc_at_IAP, 'IAP', zorder=20)\n",
    "\n",
    "\n",
    "plt.plot(generations, unlimited, label='Unlimited', linestyle='--', color=prim_col[-1])\n",
    "\n",
    "plt.xlim(0,25)\n",
    "plt.ylim(0,90)\n",
    "plt.xlabel('Generations ago')\n",
    "plt.ylabel('Average number of ancestors')\n",
    "plt.title('Number of ancestors in initial generations')\n",
    "plt.grid(True)\n",
    "plt.legend(loc='center left', bbox_to_anchor=(1, 0.5), title=\"Population size\")\n",
    "plt.savefig('anc_smallpop.png', bbox_inches='tight')\n",
    "plt.show()"
   ]
  },
  {
   "cell_type": "code",
   "execution_count": null,
   "metadata": {},
   "outputs": [],
   "source": [
    "for i in range(2,5):\n",
    "    plt.plot(generations, data[i]['genealogical_ancestors'], label=f'{pop_sizes[i]} (Genealogical)', marker='.', linestyle='-', color=prim_col[i])\n",
    "    plt.plot(generations, data[i]['genetic_ancestors'], label=f'{pop_sizes[i]} (Genetic)', marker='+', linestyle='--', color=sec_col[i])\n",
    "\n",
    "    TMRCA = data[i]['TMRCA']\n",
    "    anc_at_TMRCA = data[i]['genealogical_ancestors'][TMRCA]\n",
    "    IAP = data[i]['IAP']\n",
    "    anc_at_IAP = data[i]['genealogical_ancestors'][IAP]\n",
    "\n",
    "    plt.scatter([TMRCA], [anc_at_TMRCA], marker='1', color=dark_col[i], zorder=10)\n",
    "    plt.scatter([IAP], [anc_at_IAP], marker='2', color=dark_col[i], zorder=10)\n",
    "    plt.text(TMRCA, anc_at_TMRCA, 'TMRCA', zorder=20, fontsize=9)\n",
    "    plt.text(IAP, anc_at_IAP, 'IAP', zorder=20, fontsize=9)\n",
    "\n",
    "plt.plot(generations, unlimited, label='Unlimited', linestyle='--', color=prim_col[-1])\n",
    "\n",
    "plt.xlim(0,100)\n",
    "plt.ylim(0,900)\n",
    "plt.xlabel('Generations ago')\n",
    "plt.ylabel('Average number of ancestors')\n",
    "plt.title('Number of ancestors in long-term analysis')\n",
    "plt.grid(True)\n",
    "plt.legend(loc='center left', bbox_to_anchor=(1, 0.5), title=\"Population size\")\n",
    "plt.savefig('anc_largepop.png', bbox_inches='tight')\n",
    "plt.show()"
   ]
  },
  {
   "cell_type": "markdown",
   "metadata": {},
   "source": [
    "Compare to data from Coop"
   ]
  },
  {
   "cell_type": "code",
   "execution_count": null,
   "metadata": {},
   "outputs": [],
   "source": [
    "big_pop_sizes = [10000, 25000, 100000]\n",
    "big_samples = len(big_pop_sizes)\n",
    "\n",
    "big_data = []\n",
    "for pop_size in big_pop_sizes:\n",
    "    with open('pop' + str(pop_size) + '.json') as fp:\n",
    "        big_data.append(json.load(fp))\n",
    "\n",
    "big_generations = range(big_data[0]['num_gen'])\n",
    "        \n",
    "\n",
    "coop = [1]\n",
    "\n",
    "for i in range(1,25):\n",
    "    coop.append(2**i*(1-math.exp(-(22+33*(i-1))/2**(i-1))))\n",
    "\n",
    "for i in range(big_samples):\n",
    "    plt.plot(big_generations, big_data[i]['genetic_ancestors'], label=big_pop_sizes[i], marker='.', linestyle='-', color=prim_col[i])\n",
    "\n",
    "plt.plot(big_generations, coop, label='Coop', marker='+', linestyle='--', color=prim_col[-1])\n",
    "\n",
    "plt.xlabel('Generations ago')\n",
    "plt.ylabel('Number of ancestors')\n",
    "plt.title(\"Comparison with Coop's results\")\n",
    "plt.grid(True)\n",
    "plt.legend(loc='center left', bbox_to_anchor=(1, 0.5), title=\"Population size\")\n",
    "plt.savefig('anc_coop.png', bbox_inches='tight')\n",
    "plt.show()\n"
   ]
  },
  {
   "cell_type": "markdown",
   "metadata": {},
   "source": [
    "Number of descendants"
   ]
  },
  {
   "cell_type": "code",
   "execution_count": null,
   "metadata": {},
   "outputs": [],
   "source": [
    "for i in range(2):\n",
    "    plt.plot(generations[0:25], data[i]['genealogical_descendants'][0:25], label=f'{pop_sizes[i]} (Genealogical)', marker='.', linestyle='-', color=prim_col[i])\n",
    "    plt.plot(generations[0:25], data[i]['genetic_descendants'][0:25], label=f'{pop_sizes[i]} (Genetic)', marker='+', linestyle='--', color=sec_col[i])\n",
    "\n",
    "plt.xlabel('Generation')\n",
    "plt.ylabel('Average number of descendants')\n",
    "plt.title('Number of descendants in initial generations')\n",
    "plt.grid(True)\n",
    "plt.legend(loc='center left', bbox_to_anchor=(1, 0.5), title=\"Population size\")\n",
    "plt.savefig('desc_smallpop.png', bbox_inches='tight')\n",
    "plt.show()"
   ]
  },
  {
   "cell_type": "code",
   "execution_count": null,
   "metadata": {},
   "outputs": [],
   "source": [
    "l = 0\n",
    "h = len(generations)\n",
    "\n",
    "for i in range(2,5):\n",
    "    plt.plot(generations, data[i]['genealogical_descendants'], label=f'{pop_sizes[i]} (Genealogical)', marker='.', linestyle='-', color=prim_col[i])\n",
    "    plt.plot(generations, data[i]['genetic_descendants'], label=f'{pop_sizes[i]} (Genetic)', marker='+', linestyle='--', color=sec_col[i])\n",
    "\n",
    "plt.xlabel('Generation')\n",
    "plt.ylabel('Average number of descendants')\n",
    "plt.title('Number of descendants in long-term analysis')\n",
    "plt.grid(True)\n",
    "plt.legend(loc='center left', bbox_to_anchor=(1, 0.5), title=\"Population size\")\n",
    "plt.savefig('desc_largepop.png', bbox_inches='tight')\n",
    "plt.show()"
   ]
  },
  {
   "cell_type": "markdown",
   "metadata": {},
   "source": [
    "IBD length"
   ]
  },
  {
   "cell_type": "code",
   "execution_count": null,
   "metadata": {},
   "outputs": [],
   "source": [
    "for i in range(samples):\n",
    "    plt.plot(generations, data[i]['segment_len'], label=pop_sizes[i], marker='.', linestyle='-', color=prim_col[i])\n",
    "\n",
    "plt.xlabel('Generation')\n",
    "plt.yscale('log')\n",
    "plt.ylabel('Average IBD segment length (log scale)')\n",
    "plt.title('Length of identity-by-descent segments over time')\n",
    "plt.grid(True)\n",
    "plt.legend(loc='center left', bbox_to_anchor=(1, 0.5), title=\"Population size\")\n",
    "plt.savefig('ibd.png', bbox_inches='tight')\n",
    "plt.show()"
   ]
  },
  {
   "cell_type": "code",
   "execution_count": null,
   "metadata": {},
   "outputs": [],
   "source": [
    "for i in range(samples):\n",
    "    plt.plot(generations, data[i]['segment_count'], label=pop_sizes[i], marker='.', linestyle='-', color=prim_col[i])\n",
    "\n",
    "plt.xlabel('Generation')\n",
    "plt.ylabel('Average IBD segment count')\n",
    "plt.title('Count of identity-by-descent segments over time')\n",
    "plt.grid(True)\n",
    "plt.legend(loc='center left', bbox_to_anchor=(1, 0.5), title=\"Population size\")\n",
    "plt.savefig('ibd_count.png', bbox_inches='tight')\n",
    "plt.show()"
   ]
  },
  {
   "cell_type": "markdown",
   "metadata": {},
   "source": [
    "ROH"
   ]
  },
  {
   "cell_type": "code",
   "execution_count": null,
   "metadata": {},
   "outputs": [],
   "source": [
    "for i in range(samples):\n",
    "    plt.plot(generations[2:], data[i]['roh_len'][2:], label=pop_sizes[i], marker='.', linestyle='-', color=prim_col[i])\n",
    "\n",
    "plt.xlabel('Generation')\n",
    "plt.yscale('log')\n",
    "plt.ylabel('Average ROH length (log scale)')\n",
    "plt.title('Length of runs of homozygosity over time')\n",
    "plt.grid(True)\n",
    "plt.legend(loc='center left', bbox_to_anchor=(1, 0.5), title=\"Population size\")\n",
    "plt.savefig('ROH_len.png', bbox_inches='tight')\n",
    "plt.show()"
   ]
  },
  {
   "cell_type": "code",
   "execution_count": null,
   "metadata": {},
   "outputs": [],
   "source": [
    "for i in range(samples):\n",
    "    plt.plot(generations[:100], data[i]['roh_freq'][:100], label=pop_sizes[i], marker='.', linestyle='-', color=prim_col[i])\n",
    "\n",
    "plt.xlabel('Generation')\n",
    "# plt.yscale('log')\n",
    "plt.ylabel('ROH frequency')\n",
    "plt.title('Runs of homozygosity frequency over time')\n",
    "plt.grid(True)\n",
    "plt.legend(loc='center left', bbox_to_anchor=(1, 0.5), title=\"Population size\")\n",
    "plt.savefig('ROH_freq.png', bbox_inches='tight')\n",
    "plt.show()"
   ]
  },
  {
   "cell_type": "markdown",
   "metadata": {},
   "source": [
    "TMRCA and IAP"
   ]
  },
  {
   "cell_type": "code",
   "execution_count": null,
   "metadata": {},
   "outputs": [],
   "source": [
    "TMRCA = []\n",
    "IAP = []\n",
    "\n",
    "for i in range(samples):\n",
    "    TMRCA.append(data[i]['TMRCA'])\n",
    "    IAP.append(data[i]['IAP'])\n",
    "\n",
    "print(TMRCA)\n",
    "print(IAP)"
   ]
  },
  {
   "cell_type": "markdown",
   "metadata": {},
   "source": [
    "Long data"
   ]
  },
  {
   "cell_type": "code",
   "execution_count": null,
   "metadata": {},
   "outputs": [],
   "source": [
    "long_pop_sizes = [50]\n",
    "long_samples = len(long_pop_sizes)\n",
    "\n",
    "long_data = []\n",
    "for pop_size in long_pop_sizes:\n",
    "    with open('pop' + str(pop_size) + 'gen1000.json') as fp:\n",
    "        long_data.append(json.load(fp))\n",
    "\n",
    "long_generations = range(long_data[0]['num_gen'])\n",
    "\n",
    "for i in range(long_samples):\n",
    "    plt.plot(long_generations, long_data[i]['roh_freq'], label=pop_sizes[i], linestyle='-', color=prim_col[i])\n",
    "\n",
    "plt.xlabel('Generation')\n",
    "# plt.yscale('log')\n",
    "plt.ylabel('ROH frequency')\n",
    "plt.title('ROH frequency in a population of 50, across 1000 generations')\n",
    "plt.grid(True)\n",
    "plt.savefig('ROH_long.png', bbox_inches='tight')\n",
    "plt.show()"
   ]
  },
  {
   "cell_type": "code",
   "execution_count": null,
   "metadata": {},
   "outputs": [],
   "source": [
    "# import json\n",
    "\n",
    "# pop_sizes = [50, 100, 250, 500, 1000]\n",
    "# samples = len(pop_sizes)\n",
    "# data = []\n",
    "# for pop_size in pop_sizes:\n",
    "#     with open('pop' + str(pop_size) + '.json') as fp:\n",
    "#         data.append(json.load(fp))"
   ]
  },
  {
   "cell_type": "code",
   "execution_count": null,
   "metadata": {},
   "outputs": [],
   "source": [
    "# import json\n",
    "\n",
    "# num_gens = [10, 20, 30, 40, 50, 60, 70, 80, 90, 100]\n",
    "# samples = len(num_gens)\n",
    "# data = []\n",
    "# for num_gen in num_gens:\n",
    "#     with open('gen' + str(num_gen) + '.json') as fp:\n",
    "#         data.append(json.load(fp))"
   ]
  },
  {
   "cell_type": "code",
   "execution_count": null,
   "metadata": {},
   "outputs": [],
   "source": [
    "# runtime_genealogical_ancestors = []\n",
    "# runtime_genealogical_descendants = []\n",
    "# runtime_genetic_ancestors = []\n",
    "# runtime_genetic_descendants = []\n",
    "\n",
    "# for i in range(samples):\n",
    "#     runtime_genealogical_ancestors.append(data[i]['runtime_genealogical_ancestors'])\n",
    "#     runtime_genealogical_descendants.append(data[i]['runtime_genealogical_descendants'])\n",
    "#     runtime_genetic_ancestors.append(data[i]['runtime_genetic_ancestors'])\n",
    "#     runtime_genetic_descendants.append(data[i]['runtime_genetic_descendants'])\n",
    "\n",
    "# print(runtime_genealogical_ancestors)\n",
    "# print(runtime_genealogical_descendants)\n",
    "# print(runtime_genetic_ancestors)\n",
    "# print(runtime_genetic_descendants)"
   ]
  },
  {
   "cell_type": "code",
   "execution_count": null,
   "metadata": {},
   "outputs": [],
   "source": [
    "# import matplotlib.pyplot as plt\n",
    "\n",
    "# plt.scatter(num_gens, runtime_gene)\n",
    "# plt.xlabel('Number of generations')\n",
    "# plt.ylabel('Runtime (s)')\n",
    "# # plt.legend(loc='center left', bbox_to_anchor=(1, 0.5), title=\"pop_size\")\n",
    "# plt.show()"
   ]
  },
  {
   "cell_type": "code",
   "execution_count": null,
   "metadata": {},
   "outputs": [],
   "source": [
    "pop_sizes = [50, 100, 250, 500, 1000]\n",
    "\n",
    "roh_data = []\n",
    "\n",
    "roh_at_50 = [[] for _ in range(len(pop_sizes))]\n",
    "\n",
    "for i in range(len(pop_sizes)):\n",
    "    for j in range(10):\n",
    "        with open('pop' + str(pop_sizes[i]) + 'gen50_' + str(j) + '.json') as fp:\n",
    "            roh_data.append(json.load(fp))\n",
    "            roh_at_50[i].append(roh_data[-1]['roh_freq'][-1])\n",
    "\n",
    "# Create a boxplot\n",
    "boxplot = plt.boxplot(roh_at_50, positions=[1,2,3,4,5], labels=pop_sizes, patch_artist=True)\n",
    "\n",
    "# Customize box colors within each boxplot\n",
    "for patch, color in zip(boxplot['boxes'], prim_col):\n",
    "    patch.set_facecolor(color)\n",
    "for median in boxplot['medians']:\n",
    "    median.set(color='black', linewidth=1)\n",
    "\n",
    "# Set labels and title\n",
    "plt.xlabel('Population size (not scaled)')\n",
    "plt.ylabel('ROH frequency')\n",
    "plt.title('Frequency of ROH after 50 generations')\n",
    "plt.grid(axis=\"y\")\n",
    "\n",
    "# Show the plot\n",
    "plt.savefig('box.png')\n",
    "plt.show()"
   ]
  },
  {
   "cell_type": "markdown",
   "metadata": {},
   "source": [
    "Wright-Fisher example"
   ]
  },
  {
   "cell_type": "code",
   "execution_count": null,
   "metadata": {},
   "outputs": [],
   "source": [
    "import numpy as np\n",
    "\n",
    "N = 50\n",
    "\n",
    "A1 = [70]\n",
    "A2 = [30]\n",
    "\n",
    "np.random.seed(1245)\n",
    "\n",
    "i = 1\n",
    "while True:\n",
    "    A1.append(np.random.binomial(2*N, A1[i-1] / (2*N)))\n",
    "    A2.append(2*N - A1[i])\n",
    "\n",
    "    if A1[i] == 0 or A2[i] == 0:\n",
    "        break\n",
    "\n",
    "    i += 1\n",
    "\n",
    "plt.plot(range(i+1), A1, label='A1', color=prim_col[0])\n",
    "plt.plot(range(i+1), A2, label='A2', color=prim_col[1])\n",
    "plt.title('Example of the Wright-Fisher model for two alleles')\n",
    "plt.xlabel('Generation')\n",
    "plt.ylabel('Allele count')\n",
    "plt.legend(loc='center right')\n",
    "plt.grid(True)\n",
    "plt.savefig('wf_example.png')\n",
    "plt.show()"
   ]
  }
 ],
 "metadata": {
  "kernelspec": {
   "display_name": "Python 3",
   "language": "python",
   "name": "python3"
  },
  "language_info": {
   "codemirror_mode": {
    "name": "ipython",
    "version": 3
   },
   "file_extension": ".py",
   "mimetype": "text/x-python",
   "name": "python",
   "nbconvert_exporter": "python",
   "pygments_lexer": "ipython3",
   "version": "3.8.10"
  },
  "orig_nbformat": 4
 },
 "nbformat": 4,
 "nbformat_minor": 2
}
